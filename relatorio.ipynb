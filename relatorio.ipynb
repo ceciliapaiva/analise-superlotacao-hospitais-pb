{
 "cells": [
  {
   "cell_type": "markdown",
   "metadata": {},
   "source": [
    "### Hospital e Leito\n",
    "Fonte: OpenDataSUS"
   ]
  },
  {
   "cell_type": "code",
   "execution_count": 44,
   "metadata": {},
   "outputs": [],
   "source": [
    "import pandas as pd\n",
    "import seaborn as sns\n",
    "import matplotlib.pyplot as plt\n",
    "\n",
    "# De 01/24 a 07/24\n",
    "hospital_e_leitos_br = pd.read_csv(\"dados/Leitos_2024.csv\", encoding='ISO-8859-1')\n",
    "\n",
    "# Limpeza de dados\n",
    "hospital_e_leitos_pb = hospital_e_leitos_br[(hospital_e_leitos_br['MUNICIPIO'] == 'JOAO PESSOA') & (hospital_e_leitos_br['COMP'] <= 202407)]\n",
    "\n",
    "hospital_e_leitos_pb = hospital_e_leitos_pb.drop(['REGIAO', 'UF', 'MOTIVO_DESABILITACAO', 'CO_TIPO_UNIDADE', 'NATUREZA_JURIDICA', 'NO_COMPLEMENTO'], axis=1)\n",
    "\n",
    "hospital_e_leitos_pb[['NU_TELEFONE', 'NO_EMAIL']] = hospital_e_leitos_pb[['NU_TELEFONE', 'NO_EMAIL']].fillna('Não se aplica')\n",
    "\n",
    "hospital_e_leitos_pb = hospital_e_leitos_pb.rename(columns={\n",
    "    'COMP':'ANO_MES_COMPETENCIA',\n",
    "    'CNES':'ID_CNES',\n",
    "    'TP_GESTAO':'TIPO_GESTAO'\n",
    "})\n",
    "\n",
    "hospital_e_leitos_pb['TIPO_GESTAO'] = hospital_e_leitos_pb['TIPO_GESTAO'].replace({\n",
    "    'M':'Municipal',\n",
    "    'E':'Estadual',\n",
    "    'D':'Dupla',\n",
    "    'S':'Sem Gestão'\n",
    "})"
   ]
  },
  {
   "cell_type": "markdown",
   "metadata": {},
   "source": [
    "### SIH João Pessoa\n",
    "Fonte: Base dos dados"
   ]
  },
  {
   "cell_type": "code",
   "execution_count": 45,
   "metadata": {},
   "outputs": [
    {
     "name": "stderr",
     "output_type": "stream",
     "text": [
      "C:\\Users\\Escritorio\\AppData\\Local\\Temp\\ipykernel_47892\\3104296728.py:2: DtypeWarning: Columns (16) have mixed types. Specify dtype option on import or set low_memory=False.\n",
      "  sih_jp_2024 = pd.read_csv('dados/sih_sus_joao_pessoa_2024.csv')\n"
     ]
    }
   ],
   "source": [
    "# De 01/24 a 07/24\n",
    "sih_jp_2024 = pd.read_csv('dados/sih_sus_joao_pessoa_2024.csv')\n",
    "\n",
    "# Limpeza de dados\n",
    "sih_jp_2024 = sih_jp_2024.drop(['ano', 'mes', 'id_municipio_paciente', 'id_gestor', 'id_aih', 'id_prestador_servico', 'cbo_2002_profissional', 'id_cid_secundario', 'id_cid_secundario_subcategoria', 'nota_fiscal', 'indicador_uf_hospital', 'indicador_uf_paciente', 'indicador_id_aih', 'tipo_financiamento_ato_profissional', 'tipo_subtipo_financiamento_ato_profissional', 'tipo_documento_pf', 'tipo_documento_pj', 'tipo_valor', 'sequencia', 'nome_remessa'], axis=1)\n",
    "\n",
    "sih_jp_2024[['id_cid_principal', 'id_cid_principal_subcategoria']] = sih_jp_2024[['id_cid_principal', 'id_cid_principal_subcategoria']].fillna('Não se aplica')"
   ]
  },
  {
   "cell_type": "markdown",
   "metadata": {},
   "source": [
    "### DataFrame com o fluxo de internações e capacidade em leitos do SUS\n",
    "Os dados são de janeiro até julho de 2024"
   ]
  },
  {
   "cell_type": "code",
   "execution_count": null,
   "metadata": {},
   "outputs": [
    {
     "data": {
      "application/vnd.microsoft.datawrangler.viewer.v0+json": {
       "columns": [
        {
         "name": "index",
         "rawType": "int64",
         "type": "integer"
        },
        {
         "name": "id_estabelecimento_cnes",
         "rawType": "int64",
         "type": "integer"
        },
        {
         "name": "mes_ano",
         "rawType": "period[M]",
         "type": "unknown"
        },
        {
         "name": "qtd_entradas",
         "rawType": "int64",
         "type": "integer"
        },
        {
         "name": "qtd_saidas",
         "rawType": "int64",
         "type": "integer"
        },
        {
         "name": "total_leitos_sus",
         "rawType": "int64",
         "type": "integer"
        },
        {
         "name": "leitos_ocupados",
         "rawType": "int64",
         "type": "integer"
        },
        {
         "name": "taxa_ocupacao_percentual",
         "rawType": "float64",
         "type": "float"
        }
       ],
       "conversionMethod": "pd.DataFrame",
       "ref": "dd3c77bf-6e9d-4d13-a2c8-8ec4ee46881e",
       "rows": [
        [
         "0",
         "147907",
         "2024-01",
         "2256",
         "940",
         "50",
         "1316",
         "2632.0"
        ],
        [
         "1",
         "147907",
         "2024-02",
         "1651",
         "1835",
         "50",
         "-184",
         "-368.0"
        ],
        [
         "2",
         "147907",
         "2024-03",
         "2245",
         "2164",
         "50",
         "81",
         "162.0"
        ],
        [
         "3",
         "147907",
         "2024-04",
         "2137",
         "2108",
         "50",
         "29",
         "58.0"
        ],
        [
         "4",
         "147907",
         "2024-05",
         "2211",
         "2174",
         "50",
         "37",
         "74.0"
        ],
        [
         "5",
         "147907",
         "2024-06",
         "1839",
         "2026",
         "50",
         "-187",
         "-374.0"
        ],
        [
         "6",
         "147907",
         "2024-07",
         "628",
         "1720",
         "90",
         "-1092",
         "-1213.33"
        ],
        [
         "7",
         "2399067",
         "2024-01",
         "366",
         "236",
         "72",
         "130",
         "180.56"
        ],
        [
         "8",
         "2399067",
         "2024-02",
         "290",
         "320",
         "72",
         "-30",
         "-41.67"
        ],
        [
         "9",
         "2399067",
         "2024-03",
         "175",
         "187",
         "72",
         "-12",
         "-16.67"
        ],
        [
         "10",
         "2399067",
         "2024-04",
         "166",
         "190",
         "72",
         "-24",
         "-33.33"
        ],
        [
         "11",
         "2399067",
         "2024-05",
         "148",
         "212",
         "72",
         "-64",
         "-88.89"
        ],
        [
         "12",
         "2399067",
         "2024-07",
         "202",
         "202",
         "72",
         "0",
         "0.0"
        ],
        [
         "13",
         "2399237",
         "2024-01",
         "1550",
         "1396",
         "80",
         "154",
         "192.5"
        ],
        [
         "14",
         "2399237",
         "2024-02",
         "1161",
         "1238",
         "80",
         "-77",
         "-96.25"
        ],
        [
         "15",
         "2399237",
         "2024-03",
         "1104",
         "1059",
         "80",
         "45",
         "56.25"
        ],
        [
         "16",
         "2399237",
         "2024-04",
         "1054",
         "1065",
         "80",
         "-11",
         "-13.75"
        ],
        [
         "17",
         "2399237",
         "2024-05",
         "834",
         "839",
         "80",
         "-5",
         "-6.25"
        ],
        [
         "18",
         "2399237",
         "2024-06",
         "806",
         "826",
         "80",
         "-20",
         "-25.0"
        ],
        [
         "19",
         "2399237",
         "2024-07",
         "551",
         "637",
         "80",
         "-86",
         "-107.5"
        ],
        [
         "20",
         "2399318",
         "2024-01",
         "10019",
         "7473",
         "92",
         "2546",
         "2767.39"
        ],
        [
         "21",
         "2399318",
         "2024-02",
         "7259",
         "8432",
         "92",
         "-1173",
         "-1275.0"
        ],
        [
         "22",
         "2399318",
         "2024-03",
         "4768",
         "4676",
         "92",
         "92",
         "100.0"
        ],
        [
         "23",
         "2399318",
         "2024-04",
         "4734",
         "4696",
         "92",
         "38",
         "41.3"
        ],
        [
         "24",
         "2399318",
         "2024-05",
         "4759",
         "4693",
         "92",
         "66",
         "71.74"
        ],
        [
         "25",
         "2399318",
         "2024-06",
         "4934",
         "4874",
         "92",
         "60",
         "65.22"
        ],
        [
         "26",
         "2399318",
         "2024-07",
         "3720",
         "5349",
         "92",
         "-1629",
         "-1770.65"
        ],
        [
         "27",
         "2399555",
         "2024-01",
         "4425",
         "2060",
         "151",
         "2365",
         "1566.23"
        ],
        [
         "28",
         "2399555",
         "2024-02",
         "6235",
         "6830",
         "151",
         "-595",
         "-394.04"
        ],
        [
         "29",
         "2399555",
         "2024-03",
         "6325",
         "6181",
         "151",
         "144",
         "95.36"
        ],
        [
         "30",
         "2399555",
         "2024-04",
         "6151",
         "6349",
         "151",
         "-198",
         "-131.13"
        ],
        [
         "31",
         "2399555",
         "2024-05",
         "4402",
         "5319",
         "151",
         "-917",
         "-607.28"
        ],
        [
         "32",
         "2399555",
         "2024-06",
         "2067",
         "2866",
         "153",
         "-799",
         "-522.22"
        ],
        [
         "33",
         "2399555",
         "2024-07",
         "1322",
         "1322",
         "153",
         "0",
         "0.0"
        ],
        [
         "34",
         "2399628",
         "2024-01",
         "13681",
         "8999",
         "196",
         "4682",
         "2388.78"
        ],
        [
         "35",
         "2399628",
         "2024-02",
         "10595",
         "12635",
         "196",
         "-2040",
         "-1040.82"
        ],
        [
         "36",
         "2399628",
         "2024-03",
         "8278",
         "8060",
         "196",
         "218",
         "111.22"
        ],
        [
         "37",
         "2399628",
         "2024-04",
         "7849",
         "7976",
         "196",
         "-127",
         "-64.8"
        ],
        [
         "38",
         "2399628",
         "2024-05",
         "7023",
         "7310",
         "196",
         "-287",
         "-146.43"
        ],
        [
         "39",
         "2399628",
         "2024-06",
         "6412",
         "7335",
         "196",
         "-923",
         "-470.92"
        ],
        [
         "40",
         "2399628",
         "2024-07",
         "2366",
         "3889",
         "196",
         "-1523",
         "-777.04"
        ],
        [
         "41",
         "2399636",
         "2024-01",
         "2936",
         "2182",
         "71",
         "754",
         "1061.97"
        ],
        [
         "42",
         "2399636",
         "2024-02",
         "4250",
         "4314",
         "71",
         "-64",
         "-90.14"
        ],
        [
         "43",
         "2399636",
         "2024-03",
         "3342",
         "3209",
         "71",
         "133",
         "187.32"
        ],
        [
         "44",
         "2399636",
         "2024-04",
         "3063",
         "3365",
         "71",
         "-302",
         "-425.35"
        ],
        [
         "45",
         "2399636",
         "2024-05",
         "3155",
         "3069",
         "71",
         "86",
         "121.13"
        ],
        [
         "46",
         "2399636",
         "2024-06",
         "2437",
         "2411",
         "71",
         "26",
         "36.62"
        ],
        [
         "47",
         "2399636",
         "2024-07",
         "2005",
         "2638",
         "71",
         "-633",
         "-891.55"
        ],
        [
         "48",
         "2399644",
         "2024-01",
         "17458",
         "14666",
         "240",
         "2792",
         "1163.33"
        ],
        [
         "49",
         "2399644",
         "2024-02",
         "16929",
         "17393",
         "240",
         "-464",
         "-193.33"
        ]
       ],
       "shape": {
        "columns": 7,
        "rows": 145
       }
      },
      "text/html": [
       "<div>\n",
       "<style scoped>\n",
       "    .dataframe tbody tr th:only-of-type {\n",
       "        vertical-align: middle;\n",
       "    }\n",
       "\n",
       "    .dataframe tbody tr th {\n",
       "        vertical-align: top;\n",
       "    }\n",
       "\n",
       "    .dataframe thead th {\n",
       "        text-align: right;\n",
       "    }\n",
       "</style>\n",
       "<table border=\"1\" class=\"dataframe\">\n",
       "  <thead>\n",
       "    <tr style=\"text-align: right;\">\n",
       "      <th></th>\n",
       "      <th>id_estabelecimento_cnes</th>\n",
       "      <th>mes_ano</th>\n",
       "      <th>qtd_entradas</th>\n",
       "      <th>qtd_saidas</th>\n",
       "      <th>total_leitos_sus</th>\n",
       "      <th>leitos_ocupados</th>\n",
       "      <th>taxa_ocupacao_percentual</th>\n",
       "    </tr>\n",
       "  </thead>\n",
       "  <tbody>\n",
       "    <tr>\n",
       "      <th>0</th>\n",
       "      <td>147907</td>\n",
       "      <td>2024-01</td>\n",
       "      <td>2256</td>\n",
       "      <td>940</td>\n",
       "      <td>50</td>\n",
       "      <td>1316</td>\n",
       "      <td>2632.0</td>\n",
       "    </tr>\n",
       "    <tr>\n",
       "      <th>1</th>\n",
       "      <td>147907</td>\n",
       "      <td>2024-02</td>\n",
       "      <td>1651</td>\n",
       "      <td>1835</td>\n",
       "      <td>50</td>\n",
       "      <td>-184</td>\n",
       "      <td>-368.0</td>\n",
       "    </tr>\n",
       "    <tr>\n",
       "      <th>2</th>\n",
       "      <td>147907</td>\n",
       "      <td>2024-03</td>\n",
       "      <td>2245</td>\n",
       "      <td>2164</td>\n",
       "      <td>50</td>\n",
       "      <td>81</td>\n",
       "      <td>162.0</td>\n",
       "    </tr>\n",
       "    <tr>\n",
       "      <th>3</th>\n",
       "      <td>147907</td>\n",
       "      <td>2024-04</td>\n",
       "      <td>2137</td>\n",
       "      <td>2108</td>\n",
       "      <td>50</td>\n",
       "      <td>29</td>\n",
       "      <td>58.0</td>\n",
       "    </tr>\n",
       "    <tr>\n",
       "      <th>4</th>\n",
       "      <td>147907</td>\n",
       "      <td>2024-05</td>\n",
       "      <td>2211</td>\n",
       "      <td>2174</td>\n",
       "      <td>50</td>\n",
       "      <td>37</td>\n",
       "      <td>74.0</td>\n",
       "    </tr>\n",
       "    <tr>\n",
       "      <th>...</th>\n",
       "      <td>...</td>\n",
       "      <td>...</td>\n",
       "      <td>...</td>\n",
       "      <td>...</td>\n",
       "      <td>...</td>\n",
       "      <td>...</td>\n",
       "      <td>...</td>\n",
       "    </tr>\n",
       "    <tr>\n",
       "      <th>147</th>\n",
       "      <td>7870930</td>\n",
       "      <td>2024-03</td>\n",
       "      <td>155</td>\n",
       "      <td>163</td>\n",
       "      <td>10</td>\n",
       "      <td>-8</td>\n",
       "      <td>-80.0</td>\n",
       "    </tr>\n",
       "    <tr>\n",
       "      <th>148</th>\n",
       "      <td>7870930</td>\n",
       "      <td>2024-04</td>\n",
       "      <td>153</td>\n",
       "      <td>160</td>\n",
       "      <td>10</td>\n",
       "      <td>-7</td>\n",
       "      <td>-70.0</td>\n",
       "    </tr>\n",
       "    <tr>\n",
       "      <th>149</th>\n",
       "      <td>7870930</td>\n",
       "      <td>2024-05</td>\n",
       "      <td>133</td>\n",
       "      <td>100</td>\n",
       "      <td>10</td>\n",
       "      <td>33</td>\n",
       "      <td>330.0</td>\n",
       "    </tr>\n",
       "    <tr>\n",
       "      <th>150</th>\n",
       "      <td>7870930</td>\n",
       "      <td>2024-06</td>\n",
       "      <td>30</td>\n",
       "      <td>53</td>\n",
       "      <td>10</td>\n",
       "      <td>-23</td>\n",
       "      <td>-230.0</td>\n",
       "    </tr>\n",
       "    <tr>\n",
       "      <th>151</th>\n",
       "      <td>7870930</td>\n",
       "      <td>2024-07</td>\n",
       "      <td>60</td>\n",
       "      <td>78</td>\n",
       "      <td>10</td>\n",
       "      <td>-18</td>\n",
       "      <td>-180.0</td>\n",
       "    </tr>\n",
       "  </tbody>\n",
       "</table>\n",
       "<p>145 rows × 7 columns</p>\n",
       "</div>"
      ],
      "text/plain": [
       "     id_estabelecimento_cnes  mes_ano  qtd_entradas  qtd_saidas  \\\n",
       "0                     147907  2024-01          2256         940   \n",
       "1                     147907  2024-02          1651        1835   \n",
       "2                     147907  2024-03          2245        2164   \n",
       "3                     147907  2024-04          2137        2108   \n",
       "4                     147907  2024-05          2211        2174   \n",
       "..                       ...      ...           ...         ...   \n",
       "147                  7870930  2024-03           155         163   \n",
       "148                  7870930  2024-04           153         160   \n",
       "149                  7870930  2024-05           133         100   \n",
       "150                  7870930  2024-06            30          53   \n",
       "151                  7870930  2024-07            60          78   \n",
       "\n",
       "     total_leitos_sus  leitos_ocupados  taxa_ocupacao_percentual  \n",
       "0                  50             1316                    2632.0  \n",
       "1                  50             -184                    -368.0  \n",
       "2                  50               81                     162.0  \n",
       "3                  50               29                      58.0  \n",
       "4                  50               37                      74.0  \n",
       "..                ...              ...                       ...  \n",
       "147                10               -8                     -80.0  \n",
       "148                10               -7                     -70.0  \n",
       "149                10               33                     330.0  \n",
       "150                10              -23                    -230.0  \n",
       "151                10              -18                    -180.0  \n",
       "\n",
       "[145 rows x 7 columns]"
      ]
     },
     "execution_count": 46,
     "metadata": {},
     "output_type": "execute_result"
    }
   ],
   "source": [
    "# transformando as datas em datetime\n",
    "sih_jp_2024['data_entrada_internacao'] = pd.to_datetime(sih_jp_2024['data_entrada_internacao'])\n",
    "sih_jp_2024['data_saida_iternacao'] = pd.to_datetime(sih_jp_2024['data_saida_iternacao'])\n",
    "hospital_e_leitos_pb['mes_ano_leitos'] = pd.to_datetime(hospital_e_leitos_pb['ANO_MES_COMPETENCIA'].astype(str), format='%Y%m')\n",
    "# pegando apenas o ano e mes e inserindo em nova coluna\n",
    "sih_jp_2024['mes_ano'] = sih_jp_2024['data_entrada_internacao'].dt.to_period('M') \n",
    "sih_jp_2024['mes_ano_saida'] = sih_jp_2024['data_saida_iternacao'].dt.to_period('M')\n",
    "hospital_e_leitos_pb['mes_ano_leitos'] = hospital_e_leitos_pb['mes_ano_leitos'].dt.to_period('M')\n",
    "\n",
    "# pegando as quantidade de entrada, saidas e leitos por hospital e mês\n",
    "qtd_entradas = sih_jp_2024.groupby(['id_estabelecimento_cnes', 'mes_ano']).size().reset_index(name='qtd_entradas')\n",
    "qtd_saidas = sih_jp_2024.groupby(['id_estabelecimento_cnes', 'mes_ano_saida']).size().reset_index(name='qtd_saidas')\n",
    "qtd_saidas = qtd_saidas.rename(columns={'mes_ano_saida': 'mes_ano'})\n",
    "qtd_leitos_sus = hospital_e_leitos_pb[['ID_CNES', 'mes_ano_leitos', 'LEITOS_SUS']]\n",
    "\n",
    "# juntando e limpando o novo df\n",
    "df_ocupacao_mensal = pd.merge(qtd_entradas, qtd_saidas, on=['id_estabelecimento_cnes', 'mes_ano'], how='outer')\n",
    "df_ocupacao_mensal = pd.merge(df_ocupacao_mensal, qtd_leitos_sus, left_on=['id_estabelecimento_cnes','mes_ano'], right_on=['ID_CNES', 'mes_ano_leitos'], how='left')\n",
    "df_ocupacao_mensal = df_ocupacao_mensal.drop(['ID_CNES', 'mes_ano_leitos'], axis=1)\n",
    "df_ocupacao_mensal = df_ocupacao_mensal.rename(columns= {'LEITOS_SUS':'total_leitos_sus'})\n",
    "df_ocupacao_mensal = df_ocupacao_mensal[df_ocupacao_mensal['total_leitos_sus'].notna()]\n",
    "df_ocupacao_mensal['total_leitos_sus'] = df_ocupacao_mensal['total_leitos_sus'].astype(int)\n",
    "df_ocupacao_mensal['qtd_entradas'] = df_ocupacao_mensal['qtd_entradas'].fillna(0).astype(int)\n",
    "df_ocupacao_mensal['qtd_saidas'] = df_ocupacao_mensal['qtd_saidas'].fillna(0).astype(int)\n",
    "\n",
    "# criando a tabela de leitos_ocupados e taxa_ocupacao\n",
    "df_ocupacao_mensal['leitos_ocupados'] = (df_ocupacao_mensal['qtd_entradas'] - df_ocupacao_mensal['qtd_saidas'])\n",
    "df_ocupacao_mensal['taxa_ocupacao_percentual'] = (df_ocupacao_mensal['leitos_ocupados'] / df_ocupacao_mensal['total_leitos_sus']) * 100\n",
    "df_ocupacao_mensal['taxa_ocupacao_percentual'] = df_ocupacao_mensal['taxa_ocupacao_percentual'].round(2)\n",
    "df_ocupacao_mensal"
   ]
  }
 ],
 "metadata": {
  "kernelspec": {
   "display_name": "Python 3",
   "language": "python",
   "name": "python3"
  },
  "language_info": {
   "codemirror_mode": {
    "name": "ipython",
    "version": 3
   },
   "file_extension": ".py",
   "mimetype": "text/x-python",
   "name": "python",
   "nbconvert_exporter": "python",
   "pygments_lexer": "ipython3",
   "version": "3.13.1"
  }
 },
 "nbformat": 4,
 "nbformat_minor": 2
}
