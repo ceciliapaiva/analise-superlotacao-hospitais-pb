{
 "cells": [
  {
   "cell_type": "markdown",
   "metadata": {},
   "source": [
    "### Hospital e Leito\n",
    "Fonte: OpenDataSUS"
   ]
  },
  {
   "cell_type": "code",
   "execution_count": 165,
   "metadata": {},
   "outputs": [],
   "source": [
    "import pandas as pd\n",
    "import seaborn as sns\n",
    "import matplotlib.pyplot as plt\n",
    "import numpy as np\n",
    "\n",
    "hospital_e_leitos_br = pd.read_csv(\"dados/Leitos_2024.csv\", encoding='ISO-8859-1')\n",
    "\n",
    "# Limpeza de dados\n",
    "hospital_e_leitos_pb = hospital_e_leitos_br[(hospital_e_leitos_br['UF'] == 'PB')]\n",
    "\n",
    "hospital_e_leitos_pb = hospital_e_leitos_pb.drop(['REGIAO', 'UF', 'MOTIVO_DESABILITACAO', 'CO_TIPO_UNIDADE', 'NATUREZA_JURIDICA', 'NO_COMPLEMENTO'], axis=1)\n",
    "\n",
    "hospital_e_leitos_pb[['NU_TELEFONE', 'NO_EMAIL']] = hospital_e_leitos_pb[['NU_TELEFONE', 'NO_EMAIL']].fillna('Não se aplica')\n",
    "\n",
    "hospital_e_leitos_pb = hospital_e_leitos_pb.rename(columns={\n",
    "    'COMP':'ANO_MES_COMPETENCIA',\n",
    "    'CNES':'ID_CNES',\n",
    "    'TP_GESTAO':'TIPO_GESTAO'\n",
    "})\n",
    "\n",
    "hospital_e_leitos_pb['TIPO_GESTAO'] = hospital_e_leitos_pb['TIPO_GESTAO'].replace({\n",
    "    'M':'Municipal',\n",
    "    'E':'Estadual',\n",
    "    'D':'Dupla',\n",
    "    'S':'Sem Gestão'\n",
    "})"
   ]
  },
  {
   "cell_type": "markdown",
   "metadata": {},
   "source": [
    "### SIH João Pessoa\n",
    "Fonte: Base dos dados"
   ]
  },
  {
   "cell_type": "code",
   "execution_count": 166,
   "metadata": {},
   "outputs": [
    {
     "name": "stderr",
     "output_type": "stream",
     "text": [
      "/tmp/ipykernel_856/512246821.py:2: DtypeWarning: Columns (97,98,99,100,101,102) have mixed types. Specify dtype option on import or set low_memory=False.\n",
      "  sih_pb_2024 = pd.read_csv('dados/dados_sih_pb_2024.csv')\n"
     ]
    }
   ],
   "source": [
    "# Dicionário de Variáveis (https://pcdas.icict.fiocruz.br/conjunto-de-dados/sistema-de-informacoes-hospitalares-do-sus-sihsus/dicionario-de-variaveis/)\n",
    "sih_pb_2024 = pd.read_csv('dados/dados_sih_pb_2024.csv')\n",
    "\n",
    "# Limpeza de dados\n",
    "sih_pb_2024 = sih_pb_2024.drop(['UF_ZI', 'CGC_HOSP', 'N_AIH', 'IDENT', 'CEP', 'MUNIC_RES', 'NASC', 'SEXO',\n",
    "                                'UTI_MES_IN', 'UTI_MES_AN', 'UTI_MES_AL', 'UTI_MES_TO','UTI_INT_IN', \n",
    "                                'UTI_INT_AN', 'UTI_INT_AL', 'UTI_INT_TO', 'DIAR_ACOM', 'QT_DIARIAS',\n",
    "                                'PROC_SOLIC', 'VAL_SH', 'VAL_SP', 'VAL_SADT', 'VAL_RN', 'VAL_ACOMP',\n",
    "                                'VAL_ORTP', 'VAL_SANGUE', 'VAL_SADTSR', 'VAL_TRANSP', 'VAL_OBSANG',\n",
    "                                'VAL_PED1AC', 'VAL_UTI', 'US_TOT', 'DIAG_SECUN','COBRANCA', 'NATUREZA',\n",
    "                                'NAT_JUR', 'GESTAO', 'RUBRICA', 'IND_VDRL', 'COD_IDADE', 'NACIONAL', 'NUM_PROC',\n",
    "                                'CAR_INT', 'TOT_PT_SP', 'INSTRU', 'CID_NOTIF', 'CONTRACEP1', 'CONTRACEP2', 'GESTRISCO',\n",
    "                                'INSC_PN', 'GESTOR_COD', 'GESTOR_TP', 'GESTOR_CPF', 'GESTOR_DT', 'CNPJ_MANT', 'INFEHOSP', 'CID_ASSO',\n",
    "                                'CID_MORTE', 'COMPLEX', 'FINANC', 'FAEC_TP', 'REGCT', 'AUD_JUST', 'SIS_JUST', 'VAL_SH_FED', 'DIAGSEC6',\n",
    "                                'DIAGSEC7', 'DIAGSEC8', 'DIAGSEC9', 'TPDISEC1', 'TPDISEC4', 'TPDISEC5', 'TPDISEC6', 'TPDISEC7', 'TPDISEC8', 'TPDISEC9', \n",
    "                                'CBOR', 'CNAER', 'VINCPREV', 'CPF_AUT', 'HOMONIMO', 'NUM_FILHOS', 'SEQ_AIH5', 'RACA_COR', 'ETNIA', 'SEQUENCIA', 'REMESSA',\n",
    "                                'VAL_SP_FED', 'VAL_SH_GES', 'VAL_SP_GES', 'VAL_UCI', 'MARCA_UCI', 'DIAGSEC1', 'DIAGSEC2', 'DIAGSEC3', 'DIAGSEC4', 'DIAGSEC5',\n",
    "                                'TPDISEC2', 'TPDISEC3', 'MARCA_UTI'], axis=1)\n",
    "\n",
    "sih_pb_2024 = sih_pb_2024.rename(columns={\n",
    "    'ESPEC': 'especialidade_leito',\n",
    "    'PROC_REA': 'procedimento_realizado',\n",
    "    'VAL_TOT': 'valor_total_aih',\n",
    "    'DT_INTER': 'dt_internacao',\n",
    "    'DT_SAIDA': 'dt_saida',\n",
    "    'DIAG_PRINC': 'cid_principal',\n",
    "    'MUNIC_MOV': 'municipio_estabelecimento',\n",
    "    'DIAS_PERM': 'dias_permanencia',\n",
    "    'MORTE': 'obito',\n",
    "    'CNES': 'id_cnes',\n",
    "})\n",
    "\n",
    "sih_pb_2024 = sih_pb_2024[sih_pb_2024['MES_CMPT'] <= 11]"
   ]
  },
  {
   "cell_type": "markdown",
   "metadata": {},
   "source": [
    "### DataFrame com o fluxo de internações e capacidade em leitos do SUS\n",
    "Os dados são de janeiro até julho de 2024"
   ]
  },
  {
   "cell_type": "code",
   "execution_count": 167,
   "metadata": {},
   "outputs": [
    {
     "data": {
      "application/vnd.microsoft.datawrangler.viewer.v0+json": {
       "columns": [
        {
         "name": "index",
         "rawType": "int64",
         "type": "integer"
        },
        {
         "name": "id_cnes",
         "rawType": "int64",
         "type": "integer"
        },
        {
         "name": "mes_ano",
         "rawType": "object",
         "type": "string"
        },
        {
         "name": "data",
         "rawType": "int64",
         "type": "integer"
        },
        {
         "name": "qtd_entradas",
         "rawType": "int64",
         "type": "integer"
        },
        {
         "name": "qtd_saidas",
         "rawType": "int64",
         "type": "integer"
        },
        {
         "name": "total_leitos_sus",
         "rawType": "int64",
         "type": "integer"
        },
        {
         "name": "DS_TIPO_UNIDADE",
         "rawType": "object",
         "type": "string"
        },
        {
         "name": "dif_entrada_saida",
         "rawType": "int64",
         "type": "integer"
        },
        {
         "name": "leitos_ocupados",
         "rawType": "int64",
         "type": "integer"
        },
        {
         "name": "taxa_ocupacao_pct",
         "rawType": "float64",
         "type": "float"
        }
       ],
       "conversionMethod": "pd.DataFrame",
       "ref": "c6c8a50a-86a0-40ba-ab65-4bfd5b19d12d",
       "rows": [
        [
         "0",
         "147907",
         "202401",
         "20240101",
         "4",
         "0",
         "50",
         "HOSPITAL GERAL",
         "4",
         "4",
         "8.0"
        ],
        [
         "1",
         "147907",
         "202401",
         "20240102",
         "1",
         "1",
         "50",
         "HOSPITAL GERAL",
         "0",
         "4",
         "8.0"
        ],
        [
         "2",
         "147907",
         "202401",
         "20240104",
         "1",
         "0",
         "50",
         "HOSPITAL GERAL",
         "1",
         "5",
         "10.0"
        ],
        [
         "3",
         "147907",
         "202401",
         "20240105",
         "3",
         "0",
         "50",
         "HOSPITAL GERAL",
         "3",
         "8",
         "16.0"
        ],
        [
         "4",
         "147907",
         "202401",
         "20240106",
         "1",
         "1",
         "50",
         "HOSPITAL GERAL",
         "0",
         "8",
         "16.0"
        ],
        [
         "5",
         "147907",
         "202401",
         "20240107",
         "3",
         "0",
         "50",
         "HOSPITAL GERAL",
         "3",
         "11",
         "22.0"
        ],
        [
         "6",
         "147907",
         "202401",
         "20240108",
         "2",
         "0",
         "50",
         "HOSPITAL GERAL",
         "2",
         "13",
         "26.0"
        ],
        [
         "7",
         "147907",
         "202401",
         "20240109",
         "3",
         "2",
         "50",
         "HOSPITAL GERAL",
         "1",
         "14",
         "28.0"
        ],
        [
         "8",
         "147907",
         "202401",
         "20240110",
         "3",
         "0",
         "50",
         "HOSPITAL GERAL",
         "3",
         "17",
         "34.0"
        ],
        [
         "9",
         "147907",
         "202401",
         "20240111",
         "4",
         "0",
         "50",
         "HOSPITAL GERAL",
         "4",
         "21",
         "42.0"
        ],
        [
         "10",
         "147907",
         "202401",
         "20240112",
         "0",
         "1",
         "50",
         "HOSPITAL GERAL",
         "-1",
         "20",
         "40.0"
        ],
        [
         "11",
         "147907",
         "202401",
         "20240113",
         "5",
         "2",
         "50",
         "HOSPITAL GERAL",
         "3",
         "23",
         "46.0"
        ],
        [
         "12",
         "147907",
         "202401",
         "20240114",
         "2",
         "0",
         "50",
         "HOSPITAL GERAL",
         "2",
         "25",
         "50.0"
        ],
        [
         "13",
         "147907",
         "202401",
         "20240115",
         "5",
         "1",
         "50",
         "HOSPITAL GERAL",
         "4",
         "29",
         "58.0"
        ],
        [
         "14",
         "147907",
         "202401",
         "20240116",
         "3",
         "0",
         "50",
         "HOSPITAL GERAL",
         "3",
         "32",
         "64.0"
        ],
        [
         "15",
         "147907",
         "202401",
         "20240117",
         "3",
         "0",
         "50",
         "HOSPITAL GERAL",
         "3",
         "35",
         "70.0"
        ],
        [
         "16",
         "147907",
         "202401",
         "20240118",
         "2",
         "4",
         "50",
         "HOSPITAL GERAL",
         "-2",
         "33",
         "66.0"
        ],
        [
         "17",
         "147907",
         "202401",
         "20240119",
         "3",
         "3",
         "50",
         "HOSPITAL GERAL",
         "0",
         "33",
         "66.0"
        ],
        [
         "18",
         "147907",
         "202401",
         "20240120",
         "7",
         "2",
         "50",
         "HOSPITAL GERAL",
         "5",
         "38",
         "76.0"
        ],
        [
         "19",
         "147907",
         "202401",
         "20240121",
         "1",
         "2",
         "50",
         "HOSPITAL GERAL",
         "-1",
         "37",
         "74.0"
        ],
        [
         "20",
         "147907",
         "202401",
         "20240122",
         "6",
         "2",
         "50",
         "HOSPITAL GERAL",
         "4",
         "41",
         "82.0"
        ],
        [
         "21",
         "147907",
         "202401",
         "20240123",
         "3",
         "4",
         "50",
         "HOSPITAL GERAL",
         "-1",
         "40",
         "80.0"
        ],
        [
         "22",
         "147907",
         "202401",
         "20240124",
         "2",
         "5",
         "50",
         "HOSPITAL GERAL",
         "-3",
         "37",
         "74.0"
        ],
        [
         "23",
         "147907",
         "202401",
         "20240125",
         "3",
         "2",
         "50",
         "HOSPITAL GERAL",
         "1",
         "38",
         "76.0"
        ],
        [
         "24",
         "147907",
         "202401",
         "20240126",
         "1",
         "2",
         "50",
         "HOSPITAL GERAL",
         "-1",
         "37",
         "74.0"
        ],
        [
         "25",
         "147907",
         "202401",
         "20240128",
         "5",
         "0",
         "50",
         "HOSPITAL GERAL",
         "5",
         "42",
         "84.0"
        ],
        [
         "26",
         "147907",
         "202401",
         "20240129",
         "3",
         "3",
         "50",
         "HOSPITAL GERAL",
         "0",
         "42",
         "84.0"
        ],
        [
         "27",
         "147907",
         "202401",
         "20240130",
         "5",
         "2",
         "50",
         "HOSPITAL GERAL",
         "3",
         "45",
         "90.0"
        ],
        [
         "28",
         "147907",
         "202401",
         "20240131",
         "0",
         "1",
         "50",
         "HOSPITAL GERAL",
         "-1",
         "44",
         "88.0"
        ],
        [
         "29",
         "147907",
         "202402",
         "20240201",
         "3",
         "3",
         "50",
         "HOSPITAL GERAL",
         "0",
         "44",
         "88.0"
        ],
        [
         "30",
         "147907",
         "202402",
         "20240202",
         "1",
         "4",
         "50",
         "HOSPITAL GERAL",
         "-3",
         "41",
         "82.0"
        ],
        [
         "31",
         "147907",
         "202402",
         "20240203",
         "6",
         "1",
         "50",
         "HOSPITAL GERAL",
         "5",
         "46",
         "92.0"
        ],
        [
         "32",
         "147907",
         "202402",
         "20240205",
         "4",
         "2",
         "50",
         "HOSPITAL GERAL",
         "2",
         "48",
         "96.0"
        ],
        [
         "33",
         "147907",
         "202402",
         "20240206",
         "3",
         "7",
         "50",
         "HOSPITAL GERAL",
         "-4",
         "44",
         "88.0"
        ],
        [
         "34",
         "147907",
         "202402",
         "20240207",
         "3",
         "4",
         "50",
         "HOSPITAL GERAL",
         "-1",
         "43",
         "86.0"
        ],
        [
         "35",
         "147907",
         "202402",
         "20240208",
         "4",
         "2",
         "50",
         "HOSPITAL GERAL",
         "2",
         "45",
         "90.0"
        ],
        [
         "36",
         "147907",
         "202402",
         "20240209",
         "4",
         "4",
         "50",
         "HOSPITAL GERAL",
         "0",
         "45",
         "90.0"
        ],
        [
         "37",
         "147907",
         "202402",
         "20240210",
         "5",
         "2",
         "50",
         "HOSPITAL GERAL",
         "3",
         "48",
         "96.0"
        ],
        [
         "38",
         "147907",
         "202402",
         "20240211",
         "1",
         "1",
         "50",
         "HOSPITAL GERAL",
         "0",
         "48",
         "96.0"
        ],
        [
         "39",
         "147907",
         "202402",
         "20240212",
         "2",
         "0",
         "50",
         "HOSPITAL GERAL",
         "2",
         "50",
         "100.0"
        ],
        [
         "40",
         "147907",
         "202402",
         "20240213",
         "2",
         "2",
         "50",
         "HOSPITAL GERAL",
         "0",
         "50",
         "100.0"
        ],
        [
         "41",
         "147907",
         "202402",
         "20240214",
         "4",
         "5",
         "50",
         "HOSPITAL GERAL",
         "-1",
         "49",
         "98.0"
        ],
        [
         "42",
         "147907",
         "202402",
         "20240215",
         "4",
         "3",
         "50",
         "HOSPITAL GERAL",
         "1",
         "50",
         "100.0"
        ],
        [
         "43",
         "147907",
         "202402",
         "20240216",
         "2",
         "7",
         "50",
         "HOSPITAL GERAL",
         "-5",
         "45",
         "90.0"
        ],
        [
         "44",
         "147907",
         "202402",
         "20240217",
         "5",
         "0",
         "50",
         "HOSPITAL GERAL",
         "5",
         "50",
         "100.0"
        ],
        [
         "45",
         "147907",
         "202402",
         "20240218",
         "3",
         "3",
         "50",
         "HOSPITAL GERAL",
         "0",
         "50",
         "100.0"
        ],
        [
         "46",
         "147907",
         "202402",
         "20240219",
         "2",
         "7",
         "50",
         "HOSPITAL GERAL",
         "-5",
         "45",
         "90.0"
        ],
        [
         "47",
         "147907",
         "202402",
         "20240220",
         "6",
         "4",
         "50",
         "HOSPITAL GERAL",
         "2",
         "47",
         "94.0"
        ],
        [
         "48",
         "147907",
         "202402",
         "20240221",
         "3",
         "2",
         "50",
         "HOSPITAL GERAL",
         "1",
         "48",
         "96.0"
        ],
        [
         "49",
         "147907",
         "202402",
         "20240222",
         "3",
         "6",
         "50",
         "HOSPITAL GERAL",
         "-3",
         "45",
         "90.0"
        ]
       ],
       "shape": {
        "columns": 10,
        "rows": 26770
       }
      },
      "text/html": [
       "<div>\n",
       "<style scoped>\n",
       "    .dataframe tbody tr th:only-of-type {\n",
       "        vertical-align: middle;\n",
       "    }\n",
       "\n",
       "    .dataframe tbody tr th {\n",
       "        vertical-align: top;\n",
       "    }\n",
       "\n",
       "    .dataframe thead th {\n",
       "        text-align: right;\n",
       "    }\n",
       "</style>\n",
       "<table border=\"1\" class=\"dataframe\">\n",
       "  <thead>\n",
       "    <tr style=\"text-align: right;\">\n",
       "      <th></th>\n",
       "      <th>id_cnes</th>\n",
       "      <th>mes_ano</th>\n",
       "      <th>data</th>\n",
       "      <th>qtd_entradas</th>\n",
       "      <th>qtd_saidas</th>\n",
       "      <th>total_leitos_sus</th>\n",
       "      <th>DS_TIPO_UNIDADE</th>\n",
       "      <th>dif_entrada_saida</th>\n",
       "      <th>leitos_ocupados</th>\n",
       "      <th>taxa_ocupacao_pct</th>\n",
       "    </tr>\n",
       "  </thead>\n",
       "  <tbody>\n",
       "    <tr>\n",
       "      <th>0</th>\n",
       "      <td>147907</td>\n",
       "      <td>202401</td>\n",
       "      <td>20240101</td>\n",
       "      <td>4</td>\n",
       "      <td>0</td>\n",
       "      <td>50</td>\n",
       "      <td>HOSPITAL GERAL</td>\n",
       "      <td>4</td>\n",
       "      <td>4</td>\n",
       "      <td>8.00</td>\n",
       "    </tr>\n",
       "    <tr>\n",
       "      <th>1</th>\n",
       "      <td>147907</td>\n",
       "      <td>202401</td>\n",
       "      <td>20240102</td>\n",
       "      <td>1</td>\n",
       "      <td>1</td>\n",
       "      <td>50</td>\n",
       "      <td>HOSPITAL GERAL</td>\n",
       "      <td>0</td>\n",
       "      <td>4</td>\n",
       "      <td>8.00</td>\n",
       "    </tr>\n",
       "    <tr>\n",
       "      <th>2</th>\n",
       "      <td>147907</td>\n",
       "      <td>202401</td>\n",
       "      <td>20240104</td>\n",
       "      <td>1</td>\n",
       "      <td>0</td>\n",
       "      <td>50</td>\n",
       "      <td>HOSPITAL GERAL</td>\n",
       "      <td>1</td>\n",
       "      <td>5</td>\n",
       "      <td>10.00</td>\n",
       "    </tr>\n",
       "    <tr>\n",
       "      <th>3</th>\n",
       "      <td>147907</td>\n",
       "      <td>202401</td>\n",
       "      <td>20240105</td>\n",
       "      <td>3</td>\n",
       "      <td>0</td>\n",
       "      <td>50</td>\n",
       "      <td>HOSPITAL GERAL</td>\n",
       "      <td>3</td>\n",
       "      <td>8</td>\n",
       "      <td>16.00</td>\n",
       "    </tr>\n",
       "    <tr>\n",
       "      <th>4</th>\n",
       "      <td>147907</td>\n",
       "      <td>202401</td>\n",
       "      <td>20240106</td>\n",
       "      <td>1</td>\n",
       "      <td>1</td>\n",
       "      <td>50</td>\n",
       "      <td>HOSPITAL GERAL</td>\n",
       "      <td>0</td>\n",
       "      <td>8</td>\n",
       "      <td>16.00</td>\n",
       "    </tr>\n",
       "    <tr>\n",
       "      <th>...</th>\n",
       "      <td>...</td>\n",
       "      <td>...</td>\n",
       "      <td>...</td>\n",
       "      <td>...</td>\n",
       "      <td>...</td>\n",
       "      <td>...</td>\n",
       "      <td>...</td>\n",
       "      <td>...</td>\n",
       "      <td>...</td>\n",
       "      <td>...</td>\n",
       "    </tr>\n",
       "    <tr>\n",
       "      <th>26910</th>\n",
       "      <td>9467718</td>\n",
       "      <td>202411</td>\n",
       "      <td>20241126</td>\n",
       "      <td>6</td>\n",
       "      <td>12</td>\n",
       "      <td>246</td>\n",
       "      <td>HOSPITAL GERAL</td>\n",
       "      <td>-6</td>\n",
       "      <td>23</td>\n",
       "      <td>9.35</td>\n",
       "    </tr>\n",
       "    <tr>\n",
       "      <th>26911</th>\n",
       "      <td>9467718</td>\n",
       "      <td>202411</td>\n",
       "      <td>20241127</td>\n",
       "      <td>6</td>\n",
       "      <td>3</td>\n",
       "      <td>246</td>\n",
       "      <td>HOSPITAL GERAL</td>\n",
       "      <td>3</td>\n",
       "      <td>26</td>\n",
       "      <td>10.57</td>\n",
       "    </tr>\n",
       "    <tr>\n",
       "      <th>26912</th>\n",
       "      <td>9467718</td>\n",
       "      <td>202411</td>\n",
       "      <td>20241128</td>\n",
       "      <td>3</td>\n",
       "      <td>16</td>\n",
       "      <td>246</td>\n",
       "      <td>HOSPITAL GERAL</td>\n",
       "      <td>-13</td>\n",
       "      <td>13</td>\n",
       "      <td>5.28</td>\n",
       "    </tr>\n",
       "    <tr>\n",
       "      <th>26913</th>\n",
       "      <td>9467718</td>\n",
       "      <td>202411</td>\n",
       "      <td>20241129</td>\n",
       "      <td>0</td>\n",
       "      <td>4</td>\n",
       "      <td>246</td>\n",
       "      <td>HOSPITAL GERAL</td>\n",
       "      <td>-4</td>\n",
       "      <td>9</td>\n",
       "      <td>3.66</td>\n",
       "    </tr>\n",
       "    <tr>\n",
       "      <th>26914</th>\n",
       "      <td>9467718</td>\n",
       "      <td>202411</td>\n",
       "      <td>20241130</td>\n",
       "      <td>0</td>\n",
       "      <td>9</td>\n",
       "      <td>246</td>\n",
       "      <td>HOSPITAL GERAL</td>\n",
       "      <td>-9</td>\n",
       "      <td>0</td>\n",
       "      <td>0.00</td>\n",
       "    </tr>\n",
       "  </tbody>\n",
       "</table>\n",
       "<p>26770 rows × 10 columns</p>\n",
       "</div>"
      ],
      "text/plain": [
       "       id_cnes mes_ano      data  qtd_entradas  qtd_saidas  total_leitos_sus  \\\n",
       "0       147907  202401  20240101             4           0                50   \n",
       "1       147907  202401  20240102             1           1                50   \n",
       "2       147907  202401  20240104             1           0                50   \n",
       "3       147907  202401  20240105             3           0                50   \n",
       "4       147907  202401  20240106             1           1                50   \n",
       "...        ...     ...       ...           ...         ...               ...   \n",
       "26910  9467718  202411  20241126             6          12               246   \n",
       "26911  9467718  202411  20241127             6           3               246   \n",
       "26912  9467718  202411  20241128             3          16               246   \n",
       "26913  9467718  202411  20241129             0           4               246   \n",
       "26914  9467718  202411  20241130             0           9               246   \n",
       "\n",
       "      DS_TIPO_UNIDADE  dif_entrada_saida  leitos_ocupados  taxa_ocupacao_pct  \n",
       "0      HOSPITAL GERAL                  4                4               8.00  \n",
       "1      HOSPITAL GERAL                  0                4               8.00  \n",
       "2      HOSPITAL GERAL                  1                5              10.00  \n",
       "3      HOSPITAL GERAL                  3                8              16.00  \n",
       "4      HOSPITAL GERAL                  0                8              16.00  \n",
       "...               ...                ...              ...                ...  \n",
       "26910  HOSPITAL GERAL                 -6               23               9.35  \n",
       "26911  HOSPITAL GERAL                  3               26              10.57  \n",
       "26912  HOSPITAL GERAL                -13               13               5.28  \n",
       "26913  HOSPITAL GERAL                 -4                9               3.66  \n",
       "26914  HOSPITAL GERAL                 -9                0               0.00  \n",
       "\n",
       "[26770 rows x 10 columns]"
      ]
     },
     "execution_count": 167,
     "metadata": {},
     "output_type": "execute_result"
    }
   ],
   "source": [
    "# pegando apenas o ano e mes e inserindo em nova coluna\n",
    "sih_pb_2024['mes_ano'] = sih_pb_2024['dt_internacao'].astype(str).str[:6]\n",
    "sih_pb_2024['mes_ano_saida'] = sih_pb_2024['dt_saida'].astype(str).str[:6]\n",
    "sih_pb_2024 = sih_pb_2024[sih_pb_2024['mes_ano'] >= '202401'] # pega apenas o ano de 2024\n",
    "hospital_e_leitos_pb['mes_ano_leitos'] = hospital_e_leitos_pb['ANO_MES_COMPETENCIA'].astype(str)\n",
    "\n",
    "# pegando as quantidade de entrada, saidas e leitos por hospital e mês\n",
    "qtd_entradas = sih_pb_2024.groupby(['id_cnes', 'mes_ano', 'dt_internacao']).size().reset_index(name='qtd_entradas')\n",
    "qtd_saidas = sih_pb_2024.groupby(['id_cnes', 'mes_ano_saida', 'dt_saida']).size().reset_index(name='qtd_saidas')\n",
    "qtd_saidas = qtd_saidas.rename(columns={'mes_ano_saida': 'mes_ano', 'dt_saida': 'data'})\n",
    "qtd_entradas = qtd_entradas.rename(columns={'dt_internacao': 'data'})\n",
    "qtd_leitos_sus = hospital_e_leitos_pb[['ID_CNES', 'mes_ano_leitos', 'LEITOS_SUS']]\n",
    "\n",
    "# juntando e limpando o novo df\n",
    "df_ocupacao_mensal = pd.merge(qtd_entradas, qtd_saidas, on=['id_cnes', 'mes_ano', 'data'], how='outer')\n",
    "df_ocupacao_mensal = pd.merge(df_ocupacao_mensal, hospital_e_leitos_pb[['ID_CNES', 'mes_ano_leitos', 'LEITOS_SUS', 'DS_TIPO_UNIDADE']], left_on=['id_cnes', 'mes_ano'], right_on=['ID_CNES', 'mes_ano_leitos'], how='left')\n",
    "\n",
    "df_ocupacao_mensal = df_ocupacao_mensal.drop(['mes_ano_leitos', 'ID_CNES'], axis=1)\n",
    "df_ocupacao_mensal = df_ocupacao_mensal.rename(columns={'LEITOS_SUS': 'total_leitos_sus'})\n",
    "df_ocupacao_mensal = df_ocupacao_mensal[df_ocupacao_mensal['total_leitos_sus'].notna()]\n",
    "df_ocupacao_mensal['qtd_entradas'] = df_ocupacao_mensal['qtd_entradas'].fillna(0).astype(int)\n",
    "df_ocupacao_mensal['qtd_saidas'] = df_ocupacao_mensal['qtd_saidas'].fillna(0).astype(int)\n",
    "df_ocupacao_mensal['total_leitos_sus'] = df_ocupacao_mensal['total_leitos_sus'].astype(int)\n",
    "\n",
    "df_ocupacao_mensal['dif_entrada_saida'] = df_ocupacao_mensal['qtd_entradas'] - df_ocupacao_mensal['qtd_saidas']\n",
    "df_ocupacao_mensal['leitos_ocupados'] = df_ocupacao_mensal.groupby(['id_cnes'])['dif_entrada_saida'].cumsum() \n",
    "\n",
    "df_ocupacao_mensal['taxa_ocupacao_pct'] = df_ocupacao_mensal['leitos_ocupados'] / df_ocupacao_mensal['total_leitos_sus'] * 100\n",
    "df_ocupacao_mensal['taxa_ocupacao_pct'] = df_ocupacao_mensal['taxa_ocupacao_pct'].round(2)\n",
    "df_ocupacao_mensal"
   ]
  },
  {
   "cell_type": "code",
   "execution_count": 168,
   "metadata": {},
   "outputs": [
    {
     "data": {
      "text/plain": [
       "<Axes: title={'center': 'Distribuição da Ocupação Média Diária'}, xlabel='Média de Ocupação Diária', ylabel='Count'>"
      ]
     },
     "execution_count": 168,
     "metadata": {},
     "output_type": "execute_result"
    },
    {
     "data": {
      "image/png": "[encoded data removed]",
      "text/plain": [
       "<Figure size 640x480 with 1 Axes>"
      ]
     },
     "metadata": {},
     "output_type": "display_data"
    }
   ],
   "source": [
    "# ocupacao_media_diaria = entrada_media * dias_permanencia_media\n",
    "entrada_stats = df_ocupacao_mensal.groupby(['id_cnes'])['qtd_entradas'].mean(numeric_only=True).round(2)\n",
    "permanencia_stats = sih_pb_2024.groupby(['id_cnes'])['dias_permanencia'].mean().round(2)\n",
    "df_stats = pd.DataFrame({\n",
    "    'qtd_entradas_mean': entrada_stats,\n",
    "    'dias_permanencia_mean': permanencia_stats\n",
    "    })\n",
    "\n",
    "df_stats['ocupacao_media_diaria'] = df_stats['qtd_entradas_mean'] * df_stats['dias_permanencia_mean']\n",
    "df_stats['ocupacao_media_diaria'] = df_stats['ocupacao_media_diaria'].round(2)\n",
    "df_stats['tipo_unidade'] = hospital_e_leitos_pb.groupby(['ID_CNES'])['DS_TIPO_UNIDADE'].first()\n",
    "df_stats['nome_hospital'] = hospital_e_leitos_pb.groupby(['ID_CNES'])['NOME_ESTABELECIMENTO'].first()\n",
    "df_stats['municipio'] = hospital_e_leitos_pb.groupby(['ID_CNES'])['MUNICIPIO'].first()\n",
    "\n",
    "df_stats['qtd_entradas_mean'] = df_stats['qtd_entradas_mean'].fillna(0)\n",
    "df_stats['dias_permanencia_mean'] = df_stats['dias_permanencia_mean'].fillna(0)\n",
    "df_stats['ocupacao_media_diaria'] = df_stats['ocupacao_media_diaria'].fillna(0)\n",
    "\n",
    "# distribuição geral da média de ocupação em 2024\n",
    "plt.title('Distribuição da Ocupação Média Diária')\n",
    "plt.xlabel('Média de Ocupação Diária')\n",
    "plt.grid(True)\n",
    "sns.histplot(data=df_stats, x='ocupacao_media_diaria', kde=True)"
   ]
  },
  {
   "cell_type": "markdown",
   "metadata": {},
   "source": [
    "### Média de Ocupação vs Tipos de Unidades"
   ]
  },
  {
   "cell_type": "code",
   "execution_count": 169,
   "metadata": {},
   "outputs": [
    {
     "data": {
      "text/plain": [
       "<Axes: title={'center': 'Tipos de Unidade com SUS na Paraíba'}, xlabel='DS_TIPO_UNIDADE', ylabel='Quantidade de Unidades'>"
      ]
     },
     "execution_count": 169,
     "metadata": {},
     "output_type": "execute_result"
    },
    {
     "data": {
      "image/png": "[encoded data removed]",
      "text/plain": [
       "<Figure size 600x500 with 1 Axes>"
      ]
     },
     "metadata": {},
     "output_type": "display_data"
    },
    {
     "data": {
      "image/png": "[encoded data removed]",
      "text/plain": [
       "<Figure size 600x500 with 1 Axes>"
      ]
     },
     "metadata": {},
     "output_type": "display_data"
    }
   ],
   "source": [
    "plt.subplots(figsize=(6, 5))\n",
    "plt.title('Distribuição da Ocupação por Tipo de Unidade')\n",
    "plt.ylabel('Ocupação Diária')\n",
    "plt.xlabel('Tipo de Unidade')\n",
    "plt.grid(True)\n",
    "sns.barplot(data=df_stats, y='ocupacao_media_diaria', hue='tipo_unidade', errorbar=None, palette='bright')\n",
    "\n",
    "# quantificar os tipos de unidades na Paraíba\n",
    "plt.subplots(figsize=(6, 5))\n",
    "plt.title('Tipos de Unidade com SUS na Paraíba')\n",
    "plt.ylabel('Quantidade de Unidades')\n",
    "plt.xlabel('Tipo de Unidade')\n",
    "tipos_unidades_sus = hospital_e_leitos_pb[hospital_e_leitos_pb['LEITOS_SUS'] > 0]\n",
    "tipos_unidades_sus['DS_TIPO_UNIDADE'].value_counts().plot(kind='bar', grid=True)"
   ]
  },
  {
   "cell_type": "code",
   "execution_count": 170,
   "metadata": {},
   "outputs": [
    {
     "name": "stderr",
     "output_type": "stream",
     "text": [
      "/tmp/ipykernel_856/3289051226.py:5: UserWarning: No artists with labels found to put in legend.  Note that artists whose label start with an underscore are ignored when legend() is called with no argument.\n",
      "  plt.legend(loc='upper left', bbox_to_anchor=(1, 1))\n"
     ]
    },
    {
     "name": "stdout",
     "output_type": "stream",
     "text": [
      "(Média de Ocupação)\n",
      "Média: 33.31 / Mediana: 9.76 / Moda: 0.0\n",
      "IQR: 47.91\n",
      "Limite Inferior: -67.52\n",
      "Limite Superior: 124.13\n",
      "------------Outliers------------\n",
      "              municipio  ocupacao_media_diaria            tipo_unidade\n",
      "id_cnes                                                               \n",
      "2362856  CAMPINA GRANDE                 239.35          HOSPITAL GERAL\n",
      "2399628     JOAO PESSOA                 154.65          HOSPITAL GERAL\n",
      "2400324     JOAO PESSOA                 150.85          HOSPITAL GERAL\n",
      "2593262     JOAO PESSOA                 136.10          HOSPITAL GERAL\n",
      "2613735  CAMPINA GRANDE                 128.94  HOSPITAL ESPECIALIZADO\n",
      "9467718      SANTA RITA                 167.16          HOSPITAL GERAL\n",
      "------------Resumo------------\n",
      "count    104.00\n",
      "mean      33.31\n",
      "std       43.64\n",
      "min        0.00\n",
      "25%        4.35\n",
      "50%        9.76\n",
      "75%       52.26\n",
      "max      239.35\n",
      "Name: ocupacao_media_diaria, dtype: float64\n",
      "------------Top 6 Hospitais Mais Ocupados------------\n"
     ]
    },
    {
     "name": "stderr",
     "output_type": "stream",
     "text": [
      "/tmp/ipykernel_856/3289051226.py:15: UserWarning: No artists with labels found to put in legend.  Note that artists whose label start with an underscore are ignored when legend() is called with no argument.\n",
      "  plt.legend(loc='upper left', bbox_to_anchor=(1, 1))\n"
     ]
    },
    {
     "data": {
      "application/vnd.microsoft.datawrangler.viewer.v0+json": {
       "columns": [
        {
         "name": "id_cnes",
         "rawType": "int64",
         "type": "integer"
        },
        {
         "name": "nome_hospital",
         "rawType": "object",
         "type": "string"
        },
        {
         "name": "municipio",
         "rawType": "object",
         "type": "string"
        },
        {
         "name": "ocupacao_media_diaria",
         "rawType": "float64",
         "type": "float"
        }
       ],
       "conversionMethod": "pd.DataFrame",
       "ref": "9c09eebb-1565-45c6-be18-a7aa89fcbcc7",
       "rows": [
        [
         "2362856",
         "HOSPITAL EMERGENCIA E TRAUMA DOM LUIZ GONZAGA FERNANDES",
         "CAMPINA GRANDE",
         "239.35"
        ],
        [
         "9467718",
         "HOSPITAL METROPOLITANO DOM JOSE MARIA PIRES",
         "SANTA RITA",
         "167.16"
        ],
        [
         "2399628",
         "COMPLEXO HOSPITALAR DE MANGABEIRA GOV TARCISIO BURITY",
         "JOAO PESSOA",
         "154.65"
        ],
        [
         "2400324",
         "HOSPITAL EDSON RAMALHO",
         "JOAO PESSOA",
         "150.85"
        ],
        [
         "2593262",
         "HOSPITAL DE EMERGENCIA E TRAUMA SENADOR HUMBERTO LUCENA",
         "JOAO PESSOA",
         "136.1"
        ],
        [
         "2613735",
         "CLINICA DR MAIA",
         "CAMPINA GRANDE",
         "128.94"
        ]
       ],
       "shape": {
        "columns": 3,
        "rows": 6
       }
      },
      "text/html": [
       "<div>\n",
       "<style scoped>\n",
       "    .dataframe tbody tr th:only-of-type {\n",
       "        vertical-align: middle;\n",
       "    }\n",
       "\n",
       "    .dataframe tbody tr th {\n",
       "        vertical-align: top;\n",
       "    }\n",
       "\n",
       "    .dataframe thead th {\n",
       "        text-align: right;\n",
       "    }\n",
       "</style>\n",
       "<table border=\"1\" class=\"dataframe\">\n",
       "  <thead>\n",
       "    <tr style=\"text-align: right;\">\n",
       "      <th></th>\n",
       "      <th>nome_hospital</th>\n",
       "      <th>municipio</th>\n",
       "      <th>ocupacao_media_diaria</th>\n",
       "    </tr>\n",
       "    <tr>\n",
       "      <th>id_cnes</th>\n",
       "      <th></th>\n",
       "      <th></th>\n",
       "      <th></th>\n",
       "    </tr>\n",
       "  </thead>\n",
       "  <tbody>\n",
       "    <tr>\n",
       "      <th>2362856</th>\n",
       "      <td>HOSPITAL EMERGENCIA E TRAUMA DOM LUIZ GONZAGA ...</td>\n",
       "      <td>CAMPINA GRANDE</td>\n",
       "      <td>239.35</td>\n",
       "    </tr>\n",
       "    <tr>\n",
       "      <th>9467718</th>\n",
       "      <td>HOSPITAL METROPOLITANO DOM JOSE MARIA PIRES</td>\n",
       "      <td>SANTA RITA</td>\n",
       "      <td>167.16</td>\n",
       "    </tr>\n",
       "    <tr>\n",
       "      <th>2399628</th>\n",
       "      <td>COMPLEXO HOSPITALAR DE MANGABEIRA GOV TARCISIO...</td>\n",
       "      <td>JOAO PESSOA</td>\n",
       "      <td>154.65</td>\n",
       "    </tr>\n",
       "    <tr>\n",
       "      <th>2400324</th>\n",
       "      <td>HOSPITAL EDSON RAMALHO</td>\n",
       "      <td>JOAO PESSOA</td>\n",
       "      <td>150.85</td>\n",
       "    </tr>\n",
       "    <tr>\n",
       "      <th>2593262</th>\n",
       "      <td>HOSPITAL DE EMERGENCIA E TRAUMA SENADOR HUMBER...</td>\n",
       "      <td>JOAO PESSOA</td>\n",
       "      <td>136.10</td>\n",
       "    </tr>\n",
       "    <tr>\n",
       "      <th>2613735</th>\n",
       "      <td>CLINICA DR MAIA</td>\n",
       "      <td>CAMPINA GRANDE</td>\n",
       "      <td>128.94</td>\n",
       "    </tr>\n",
       "  </tbody>\n",
       "</table>\n",
       "</div>"
      ],
      "text/plain": [
       "                                             nome_hospital       municipio  \\\n",
       "id_cnes                                                                      \n",
       "2362856  HOSPITAL EMERGENCIA E TRAUMA DOM LUIZ GONZAGA ...  CAMPINA GRANDE   \n",
       "9467718        HOSPITAL METROPOLITANO DOM JOSE MARIA PIRES      SANTA RITA   \n",
       "2399628  COMPLEXO HOSPITALAR DE MANGABEIRA GOV TARCISIO...     JOAO PESSOA   \n",
       "2400324                             HOSPITAL EDSON RAMALHO     JOAO PESSOA   \n",
       "2593262  HOSPITAL DE EMERGENCIA E TRAUMA SENADOR HUMBER...     JOAO PESSOA   \n",
       "2613735                                    CLINICA DR MAIA  CAMPINA GRANDE   \n",
       "\n",
       "         ocupacao_media_diaria  \n",
       "id_cnes                         \n",
       "2362856                 239.35  \n",
       "9467718                 167.16  \n",
       "2399628                 154.65  \n",
       "2400324                 150.85  \n",
       "2593262                 136.10  \n",
       "2613735                 128.94  "
      ]
     },
     "execution_count": 170,
     "metadata": {},
     "output_type": "execute_result"
    },
    {
     "data": {
      "image/png": "[encoded data removed]",
      "text/plain": [
       "<Figure size 640x480 with 1 Axes>"
      ]
     },
     "metadata": {},
     "output_type": "display_data"
    },
    {
     "data": {
      "image/png": "[encoded data removed]",
      "text/plain": [
       "<Figure size 600x500 with 1 Axes>"
      ]
     },
     "metadata": {},
     "output_type": "display_data"
    }
   ],
   "source": [
    "plt.title('Relação entre Ocupação Diária e Tipos de Unidade')\n",
    "plt.ylabel('Ocupação Média Diária')\n",
    "plt.xlabel('Tipo de Unidade')\n",
    "plt.grid(True)\n",
    "plt.legend(loc='upper left', bbox_to_anchor=(1, 1))\n",
    "sns.violinplot(data=df_stats, hue='tipo_unidade', y='ocupacao_media_diaria', palette='bright')\n",
    "\n",
    "# top 6 hospitais mais ocupados\n",
    "top_6_hospitais = df_stats.nlargest(6, 'ocupacao_media_diaria')\n",
    "plt.subplots(figsize=(6, 5))\n",
    "plt.title('Cidades com os Hospitais Mais Ocupados da Paraíba')\n",
    "plt.ylabel('Ocupação Média Diária')\n",
    "plt.xlabel('Município')\n",
    "plt.grid(True)  \n",
    "plt.legend(loc='upper left', bbox_to_anchor=(1, 1))\n",
    "sns.barplot(data=top_6_hospitais, hue='municipio', y='ocupacao_media_diaria', errorbar=None, palette='bright')\n",
    "\n",
    "# medidas de centralidade\n",
    "print(f\"(Média de Ocupação)\\nMédia: {df_stats['ocupacao_media_diaria'].mean():.2f} / Mediana: {df_stats['ocupacao_media_diaria'].median():.2f} / Moda: {df_stats['ocupacao_media_diaria'].mode().iloc[0]}\")\n",
    "\n",
    "# medidas de variabilidade\n",
    "q1 = df_stats['ocupacao_media_diaria'].quantile(0.25)\n",
    "q3 = df_stats['ocupacao_media_diaria'].quantile(0.75)\n",
    "IQR_ocupacao = q3 - q1\n",
    "lim_inferior = q1 - 1.5 * IQR_ocupacao\n",
    "lim_superior = q3 + 1.5 * IQR_ocupacao\n",
    "print(f\"IQR: {IQR_ocupacao:.2f}\")\n",
    "print(f\"Limite Inferior: {lim_inferior:.2f}\")\n",
    "print(f\"Limite Superior: {lim_superior:.2f}\")\n",
    "outliers_ocupacao = df_stats[(df_stats['ocupacao_media_diaria'] < lim_inferior) | (df_stats['ocupacao_media_diaria'] > lim_superior)]\n",
    "print(f\"------------Outliers------------\\n{outliers_ocupacao[['municipio', 'ocupacao_media_diaria', 'tipo_unidade']]}\")\n",
    "print(f\"------------Resumo------------\\n{df_stats['ocupacao_media_diaria'].describe().round(2)}\")\n",
    "print(f\"------------Top 6 Hospitais Mais Ocupados------------\")\n",
    "top_6_hospitais[['nome_hospital', 'municipio', 'ocupacao_media_diaria']].sort_values(by='ocupacao_media_diaria', ascending=False)"
   ]
  },
  {
   "cell_type": "markdown",
   "metadata": {},
   "source": [
    "No contexto do Estado da Paraíba, as maiores médias de ocupação diária se encontra em unidades do tipo: hospital geral e hospital especializado (Hospitais que possuem leitos do SUS). Sendo os hospitais especializados os mais afetados, porém, são os que tem menos distribuição no Estado. Foi encontrado 6 dados extremos, provenientes de hospitais localizados em regiões metropolitanas da Paraíba, e esses outliers são os top 6 hospitais com as maiores médias de ocupação diária em 2024."
   ]
  }
 ],
 "metadata": {
  "kernelspec": {
   "display_name": ".venv",
   "language": "python",
   "name": "python3"
  },
  "language_info": {
   "codemirror_mode": {
    "name": "ipython",
    "version": 3
   },
   "file_extension": ".py",
   "mimetype": "text/x-python",
   "name": "python",
   "nbconvert_exporter": "python",
   "pygments_lexer": "ipython3",
   "version": "3.12.3"
  }
 },
 "nbformat": 4,
 "nbformat_minor": 2
}
