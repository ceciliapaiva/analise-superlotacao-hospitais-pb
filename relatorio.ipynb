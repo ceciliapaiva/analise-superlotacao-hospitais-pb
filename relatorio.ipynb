{
 "cells": [
  {
   "cell_type": "code",
   "execution_count": 3,
   "metadata": {},
   "outputs": [],
   "source": [
    "import pandas as pd\n",
    "import seaborn as sns\n",
    "import matplotlib.pyplot as plt\n",
    "\n",
    "# De 01/24 a 07/24\n",
    "hospital_e_leitos_br = pd.read_csv(\"dados/Leitos_2024.csv\", encoding='ISO-8859-1')\n",
    "\n",
    "# Limpeza de dados\n",
    "hospital_e_leitos_pb = hospital_e_leitos_br[(hospital_e_leitos_br['MUNICIPIO'] == 'JOAO PESSOA') & (hospital_e_leitos_br['COMP'] <= 202407)]\n",
    "\n",
    "hospital_e_leitos_pb = hospital_e_leitos_pb.drop(['REGIAO', 'UF', 'MOTIVO_DESABILITACAO', 'CO_TIPO_UNIDADE', 'NATUREZA_JURIDICA', 'NO_COMPLEMENTO'], axis=1)\n",
    "\n",
    "hospital_e_leitos_pb[['NU_TELEFONE', 'NO_EMAIL']] = hospital_e_leitos_pb[['NU_TELEFONE', 'NO_EMAIL']].fillna('Não se aplica')\n",
    "\n",
    "hospital_e_leitos_pb = hospital_e_leitos_pb.rename(columns={\n",
    "    'COMP':'ANO_MES_COMPETENCIA',\n",
    "    'CNES':'ID_CNES',\n",
    "    'TP_GESTAO':'TIPO_GESTAO'\n",
    "})\n",
    "\n",
    "hospital_e_leitos_pb['TIPO_GESTAO'] = hospital_e_leitos_pb['TIPO_GESTAO'].replace({\n",
    "    'M':'Municipal',\n",
    "    'E':'Estadual',\n",
    "    'D':'Dupla',\n",
    "    'S':'Sem Gestão'\n",
    "})"
   ]
  },
  {
   "cell_type": "code",
   "execution_count": 4,
   "metadata": {},
   "outputs": [
    {
     "name": "stderr",
     "output_type": "stream",
     "text": [
      "C:\\Users\\Escritorio\\AppData\\Local\\Temp\\ipykernel_15932\\3935858640.py:2: DtypeWarning: Columns (16) have mixed types. Specify dtype option on import or set low_memory=False.\n",
      "  sih_jp_2024 = pd.read_csv('dados/sih_sus_joao_pessoa_2024.csv')\n"
     ]
    }
   ],
   "source": [
    "# De 01/24 a 07/24\n",
    "sih_jp_2024 = pd.read_csv('dados/sih_sus_joao_pessoa_2024.csv')\n",
    "\n",
    "# Limpeza de dados\n",
    "sih_jp_2024 = sih_jp_2024.drop(['ano', 'mes', 'id_municipio_paciente', 'id_gestor', 'id_aih', 'id_prestador_servico', 'cbo_2002_profissional', 'id_cid_secundario', 'id_cid_secundario_subcategoria', 'nota_fiscal', 'indicador_uf_hospital', 'indicador_uf_paciente', 'indicador_id_aih', 'tipo_financiamento_ato_profissional', 'tipo_subtipo_financiamento_ato_profissional', 'tipo_documento_pf', 'tipo_documento_pj', 'tipo_valor', 'sequencia', 'nome_remessa'], axis=1)\n",
    "\n",
    "sih_jp_2024[['id_cid_principal', 'id_cid_principal_subcategoria']] = sih_jp_2024[['id_cid_principal', 'id_cid_principal_subcategoria']].fillna('NÃO se aplica')"
   ]
  }
 ],
 "metadata": {
  "kernelspec": {
   "display_name": "Python 3",
   "language": "python",
   "name": "python3"
  },
  "language_info": {
   "codemirror_mode": {
    "name": "ipython",
    "version": 3
   },
   "file_extension": ".py",
   "mimetype": "text/x-python",
   "name": "python",
   "nbconvert_exporter": "python",
   "pygments_lexer": "ipython3",
   "version": "3.13.1"
  }
 },
 "nbformat": 4,
 "nbformat_minor": 2
}
